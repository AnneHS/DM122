{
 "cells": [
  {
   "cell_type": "code",
   "execution_count": 16,
   "metadata": {},
   "outputs": [
    {
     "name": "stdout",
     "output_type": "stream",
     "text": [
      "[0.97961783 0.98089172 0.96878981 0.97898089 0.97452229 0.97643312\n",
      " 0.97834395 0.97898089 0.97707006 0.98152866]\n",
      "0.977515923566879\n",
      "0.0035124371156591678\n"
     ]
    }
   ],
   "source": [
    "import pandas as pd\n",
    "import string\n",
    "import warnings\n",
    "import nltk\n",
    "import sklearn\n",
    "import matplotlib.pyplot as plt\n",
    "import numpy as np\n",
    "from nltk import stem\n",
    "from nltk.stem import WordNetLemmatizer\n",
    "from nltk.corpus import stopwords\n",
    "from sklearn import svm\n",
    "from sklearn.feature_extraction.text import TfidfVectorizer\n",
    "from sklearn.model_selection import ShuffleSplit\n",
    "from sklearn.model_selection import cross_val_score\n",
    "\n",
    "i = 0\n",
    "warnings.simplefilter(action='ignore', category=FutureWarning)\n",
    "data = pd.read_csv(\"SmsCollection.csv\", encoding = \"UTF-8\", delimiter= ';', error_bad_lines= False, warn_bad_lines=False)\n",
    "stemmer = stem.SnowballStemmer('english')\n",
    "stopwords = set(stopwords.words('english'))\n",
    "\n",
    "#data processing\n",
    "for sentence in data['text']:\n",
    "    #remove punctuation\n",
    "    sentence = sentence.translate(str.maketrans('', '', string.punctuation))\n",
    "    #remove stopwords & convert to lower case\n",
    "    sentence = [word.lower() for word in sentence.split() if word not in stopwords]  \n",
    "    #stemming\n",
    "    sentence = \" \".join([stemmer.stem(word) for word in sentence])\n",
    "    #write back to the dataframe\n",
    "    data['text'][i] = sentence\n",
    "    i +=1\n",
    "\n",
    "X = data['text']\n",
    "y = data['label']\n",
    "\n",
    "# training vectorizer\n",
    "vectorizer = TfidfVectorizer()\n",
    "X = vectorizer.fit_transform(X)\n",
    "\n",
    "#cross validation\n",
    "clf = svm.SVC(kernel='linear', C=1)\n",
    "n_samples = X.shape[0]\n",
    "cv = ShuffleSplit(n_splits=10, test_size=0.3, random_state=0)\n",
    "score = cross_val_score(clf, X, y, cv=cv)\n",
    "\n",
    "#result\n",
    "print(score)\n",
    "print(np.average(score))\n",
    "print(np.std(score))"
   ]
  },
  {
   "cell_type": "code",
   "execution_count": 15,
   "metadata": {},
   "outputs": [
    {
     "data": {
      "text/plain": [
       "<Figure size 432x288 with 0 Axes>"
      ]
     },
     "metadata": {},
     "output_type": "display_data"
    },
    {
     "data": {
      "image/png": "[encoded data removed]",
      "text/plain": [
       "<Figure size 432x288 with 1 Axes>"
      ]
     },
     "metadata": {
      "needs_background": "light"
     },
     "output_type": "display_data"
    },
    {
     "name": "stdout",
     "output_type": "stream",
     "text": [
      "Overall accuracy: 0.98 (+/- 0.01)\n"
     ]
    }
   ],
   "source": [
    "fig = plt.figure()\n",
    "y = score\n",
    "numBins = [1, 2, 3, 4, 5, 6, 7, 8, 9, 10]\n",
    "plt.figure()\n",
    "plt.plot(numBins, y, color='blue',alpha=0.8)\n",
    "plt.title('Cross Validation Result')\n",
    "plt.xlabel('Iteration')\n",
    "plt.ylabel('Accuracy')\n",
    "plt.show()\n",
    "print(\"Overall accuracy: %0.2f (+/- %0.2f)\" % (score.mean(), score.std() * 2))"
   ]
  },
  {
   "cell_type": "code",
   "execution_count": null,
   "metadata": {},
   "outputs": [],
   "source": []
  }
 ],
 "metadata": {
  "kernelspec": {
   "display_name": "Python 3",
   "language": "python",
   "name": "python3"
  },
  "language_info": {
   "codemirror_mode": {
    "name": "ipython",
    "version": 3
   },
   "file_extension": ".py",
   "mimetype": "text/x-python",
   "name": "python",
   "nbconvert_exporter": "python",
   "pygments_lexer": "ipython3",
   "version": "3.7.3"
  }
 },
 "nbformat": 4,
 "nbformat_minor": 2
}
